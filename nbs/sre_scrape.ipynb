{
 "cells": [
  {
   "cell_type": "markdown",
   "id": "3c9a786f-e77e-429a-b836-afbf9be8c5be",
   "metadata": {},
   "source": [
    "# SRE Scrape\n",
    "<strong>Notebook Objective:</strong> Scrape sre.google books and create input.txt file"
   ]
  },
  {
   "cell_type": "code",
   "execution_count": 1,
   "id": "b8e6b62c-570d-46fa-b9e1-e81d8d66ec26",
   "metadata": {
    "tags": []
   },
   "outputs": [],
   "source": [
    "from bs4 import BeautifulSoup\n",
    "import requests"
   ]
  },
  {
   "cell_type": "code",
   "execution_count": 2,
   "id": "770219cb-1c4a-4cc8-96e5-e5cc972a316f",
   "metadata": {
    "tags": []
   },
   "outputs": [],
   "source": [
    "base_url = \"https://sre.google\""
   ]
  },
  {
   "cell_type": "code",
   "execution_count": 3,
   "id": "2c0cbd7c-11a2-437f-9cc7-206ecbeb7e5d",
   "metadata": {
    "tags": []
   },
   "outputs": [],
   "source": [
    "input_path = \"./data/sre.google/\"\n",
    "\n",
    "def scrape_page(url):\n",
    "    req = requests.get(f\"{base_url}/{url}\")\n",
    "    soup = BeautifulSoup(req.text, \"html.parser\")\n",
    "    text_list = [val.text for val in soup.find(\"div\", {\"id\": \"maia-main\"}).find_all(\"p\")]\n",
    "    next_url = soup.find(\"div\", {\"class\": \"next\"}).find(\"a\", href=True)[\"href\"]\n",
    "    return text_list, next_url"
   ]
  },
  {
   "cell_type": "code",
   "execution_count": 4,
   "id": "ecc6d608-32d4-4167-926c-44e31bb5b92d",
   "metadata": {
    "tags": []
   },
   "outputs": [],
   "source": [
    "def scrape_book(start_url, end_url):\n",
    "    \n",
    "    n = 0\n",
    "    next_url = start_url\n",
    "    \n",
    "    text_list = []\n",
    "    while next_url != end_url:\n",
    "\n",
    "        text_list_tmp, next_url = scrape_page(next_url)\n",
    "        text_list += text_list_tmp\n",
    "        \n",
    "    return text_list"
   ]
  },
  {
   "cell_type": "code",
   "execution_count": 5,
   "id": "870e431b-c72c-40f2-8e82-6452e36e4346",
   "metadata": {
    "tags": []
   },
   "outputs": [],
   "source": [
    "workbook_text_list = scrape_book(\n",
    "    \"/workbook/foreword-I/\",\n",
    "    \"/workbook/index/\"\n",
    ")"
   ]
  },
  {
   "cell_type": "code",
   "execution_count": 6,
   "id": "0644a602-7041-4bbb-8c3c-33d254d89c6c",
   "metadata": {},
   "outputs": [
    {
     "data": {
      "text/plain": [
       "2852"
      ]
     },
     "execution_count": 6,
     "metadata": {},
     "output_type": "execute_result"
    }
   ],
   "source": [
    "len(workbook_text_list)"
   ]
  },
  {
   "cell_type": "code",
   "execution_count": 7,
   "id": "b73e8c0e-964b-4042-94c3-688909246f89",
   "metadata": {
    "tags": []
   },
   "outputs": [],
   "source": [
    "srebook_text_list = scrape_book(\n",
    "    \"/sre-book/foreword/\",\n",
    "    \"/sre-book/bibliography/\"\n",
    ")"
   ]
  },
  {
   "cell_type": "code",
   "execution_count": 8,
   "id": "7e01f161-97bf-438e-af14-35d0fbe567ea",
   "metadata": {
    "tags": []
   },
   "outputs": [
    {
     "data": {
      "text/plain": [
       "2646"
      ]
     },
     "execution_count": 8,
     "metadata": {},
     "output_type": "execute_result"
    }
   ],
   "source": [
    "len(srebook_text_list)"
   ]
  },
  {
   "cell_type": "code",
   "execution_count": 9,
   "id": "98cc5a54-6dbd-4dd8-96f1-36fc36443688",
   "metadata": {
    "tags": []
   },
   "outputs": [],
   "source": [
    "complete_text_list = workbook_text_list + srebook_text_list"
   ]
  },
  {
   "cell_type": "code",
   "execution_count": 10,
   "id": "78dbef20-9ae0-47af-b7b1-191c5599b98e",
   "metadata": {
    "tags": []
   },
   "outputs": [],
   "source": [
    "list_of_list = [\n",
    "    (\n",
    "        val.replace(\"\\x80\", \"\").replace(\"\\x99\", \"\").replace(\"â\", \"'\").replace(\"\\'\\x9c\", '\"').replace(\"\\'\\x9d\", '\"').replace(\"\\'\\x94\", \"—\").strip()\n",
    "    ).split(\"\\n\") for val in complete_text_list\n",
    "]"
   ]
  },
  {
   "cell_type": "code",
   "execution_count": 11,
   "id": "dc5391d2-ed5f-4cb3-8aac-1ae1e5482e38",
   "metadata": {
    "tags": []
   },
   "outputs": [
    {
     "data": {
      "text/plain": [
       "[['Mark Burgess'],\n",
       " [\"Having introduced the first SRE book for O'Reilly, I am honored to be invited back for the sequel. In this book, the writing team is leaving the history of the first book to speak for itself and reaching out to a broader audience, offering direct experiences, case studies, and informal guidance. The broad themes will be familiar to anyone in IT, perhaps relabeled and reprioritized, and with a modern sense of business awareness. In place of technical descriptions, here we have user-facing services and their promises or objectives. We see human-computer systems originate from within the evolving business, intrinsic to its purpose, rather than as foreign meteorites impacting an unsuspecting and pristine infrastructure. Cooperation of all human-computer parts is the focus. Indeed, the book might be summarized as follows:\"]]"
      ]
     },
     "execution_count": 11,
     "metadata": {},
     "output_type": "execute_result"
    }
   ],
   "source": [
    "list_of_list[:2]"
   ]
  },
  {
   "cell_type": "code",
   "execution_count": 12,
   "id": "78617125-571c-4a52-a3a5-ef6ee13e04cd",
   "metadata": {
    "tags": []
   },
   "outputs": [],
   "source": [
    "text_list = [\n",
    "    item for sublist in list_of_list for item in sublist if len(item) > 100\n",
    "]"
   ]
  },
  {
   "cell_type": "code",
   "execution_count": 13,
   "id": "6c56b07a-6788-44e4-8fa9-b7f7e6a16123",
   "metadata": {
    "tags": []
   },
   "outputs": [
    {
     "data": {
      "text/plain": [
       "[\"Having introduced the first SRE book for O'Reilly, I am honored to be invited back for the sequel. In this book, the writing team is leaving the history of the first book to speak for itself and reaching out to a broader audience, offering direct experiences, case studies, and informal guidance. The broad themes will be familiar to anyone in IT, perhaps relabeled and reprioritized, and with a modern sense of business awareness. In place of technical descriptions, here we have user-facing services and their promises or objectives. We see human-computer systems originate from within the evolving business, intrinsic to its purpose, rather than as foreign meteorites impacting an unsuspecting and pristine infrastructure. Cooperation of all human-computer parts is the focus. Indeed, the book might be summarized as follows:\",\n",
       " \"Keeping promises reliably (to all stakeholders) depends on the stability of all their dependencies, of intent, and of the lives of the people involved (e.g., see Thinking in Promises). Remarkably, the human aspects of human-computer systems only grow alongside the perceived menace of scale: it turns out that automation doesn't eliminate humans, after all; rather, it challenges us to reassert human needs across all scales, from the genesis of an individual idea to the massive deployments on behalf of a global user base.\"]"
      ]
     },
     "execution_count": 13,
     "metadata": {},
     "output_type": "execute_result"
    }
   ],
   "source": [
    "text_list[:2]"
   ]
  },
  {
   "cell_type": "code",
   "execution_count": 56,
   "id": "53ecc10b-35c7-4a19-8509-fbb4137482c8",
   "metadata": {
    "tags": []
   },
   "outputs": [
    {
     "data": {
      "text/plain": [
       "4133"
      ]
     },
     "execution_count": 56,
     "metadata": {},
     "output_type": "execute_result"
    }
   ],
   "source": [
    "len(text_list)"
   ]
  },
  {
   "cell_type": "code",
   "execution_count": 57,
   "id": "addc2b87-f4ed-4f28-8e42-b1c36c438723",
   "metadata": {
    "tags": []
   },
   "outputs": [],
   "source": [
    "with open(\"../data/sre.google_char/input.txt\", \"w\") as txt_file:\n",
    "    txt_file.write(\"\\n\".join(text_list))"
   ]
  }
 ],
 "metadata": {
  "kernelspec": {
   "display_name": "Python 3 (ipykernel)",
   "language": "python",
   "name": "python3"
  },
  "language_info": {
   "codemirror_mode": {
    "name": "ipython",
    "version": 3
   },
   "file_extension": ".py",
   "mimetype": "text/x-python",
   "name": "python",
   "nbconvert_exporter": "python",
   "pygments_lexer": "ipython3",
   "version": "3.10.8"
  }
 },
 "nbformat": 4,
 "nbformat_minor": 5
}
